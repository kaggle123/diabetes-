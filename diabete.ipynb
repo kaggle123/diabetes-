import pandas as pd
pd.read_csv(r'C:\Users\Dell\Desktop\diabetes.csv')
